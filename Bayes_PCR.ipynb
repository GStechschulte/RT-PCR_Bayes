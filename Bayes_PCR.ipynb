{
 "cells": [
  {
   "cell_type": "markdown",
   "metadata": {},
   "source": [
    "## Bayes Formula\n",
    "\n",
    "The prevalence of the disease is the proportion of the population who is sick and \n",
    "the accuracy of the test is the probability that the test gives a correct result\n",
    "\n",
    "Based on these two parameters, we can define four major categories:\n",
    " - P(sick) = prevalence\n",
    " - P(healthy) = 1 - P(sick)\n",
    " - P(accurate) = accuracy\n",
    " - P(inaccurate) = 1 - P(accurate)\n",
    "\n",
    "\n",
    "The test accuracy is the probability that a person tests positive if she/he is sick, and also the probability that a person tests negative if she/he is healthy. These conditional probabilities correspond to the accuracy of the test:\n",
    " - P(positive | sick) = accuracy\n",
    " - P(negative | healthy) = accuracy\n",
    "\n",
    "Note - These are two different values and are called sensitivity (probability of getting a positive test when sick) and specificity (probability of getting a negative test when healthy)\n",
    "\n",
    "Thus, the following:\n",
    " - P(positive) = P(accurate) * P(sick) + P(inaccurate) * P(healthy) = accuracy * prevalence + (1-accuracy) * (1-prevalence)\n",
    " - P(negative) = P(accurate) * P(healthy) + P(inaccurate) * P(sick) = accuracy * (1-prevalence) + (1-accuracy) * prevalence\n",
    "\n",
    "\n",
    "Bayes Formula:\n",
    "\n",
    "**P(A | B) = P(B | A) / P(B)**\n"
   ]
  },
  {
   "cell_type": "code",
   "execution_count": 3,
   "metadata": {},
   "outputs": [],
   "source": [
    "import numpy as np\n",
    "import seaborn as sns\n",
    "import matplotlib.pyplot as plt"
   ]
  },
  {
   "cell_type": "code",
   "execution_count": 4,
   "metadata": {},
   "outputs": [],
   "source": [
    "prevalance = np.linspace(0.005, 0.02, 10)\n",
    "accuracy = np.linspace(0.935, 0.99, 10)"
   ]
  },
  {
   "cell_type": "code",
   "execution_count": 42,
   "metadata": {},
   "outputs": [],
   "source": [
    "def test_accuracy(accuracy, prevalance, graph):\n",
    "    healthy = 1 - prevalance\n",
    "    inaccurate = 1 - accuracy\n",
    "    probs_positive = (accuracy * prevalance) + (inaccurate * healthy)\n",
    "    probs_negative = (accuracy * healthy) + (inaccurate * prevalance)\n",
    "    \n",
    "    if graph == 'Yes':\n",
    "        fig, ax = plt.subplots(1,2)\n",
    "        sns.lineplot(x=accuracy, y=probs_negative, ax=ax[0])\n",
    "        sns.lineplot(x=prevalance, y=probs_negative, ax=ax[1])\n",
    "        plt.tight_layout()\n",
    "    else:\n",
    "        print(\"P(+) = \", round(probs_positive*100, 2))\n",
    "        print(\"P(-) = \", round(probs_negative*100, 2))\n",
    "        print(round(probs_positive + probs_negative), 2)\n",
    "\n",
    "    return probs_positive, probs_negative"
   ]
  },
  {
   "cell_type": "code",
   "execution_count": 43,
   "metadata": {},
   "outputs": [
    {
     "data": {
      "text/plain": [
       "(array([0.06935   , 0.06477037, 0.06023148, 0.05573333, 0.05127593,\n",
       "        0.04685926, 0.04248333, 0.03814815, 0.0338537 , 0.0296    ]),\n",
       " array([0.93065   , 0.93522963, 0.93976852, 0.94426667, 0.94872407,\n",
       "        0.95314074, 0.95751667, 0.96185185, 0.9661463 , 0.9704    ]))"
      ]
     },
     "execution_count": 43,
     "metadata": {},
     "output_type": "execute_result"
    },
    {
     "data": {
      "image/png": "[encoded data removed]",
      "text/plain": [
       "<Figure size 432x288 with 2 Axes>"
      ]
     },
     "metadata": {
      "needs_background": "light"
     },
     "output_type": "display_data"
    }
   ],
   "source": [
    "test_accuracy(accuracy, prevalance, 'Yes')"
   ]
  },
  {
   "cell_type": "code",
   "execution_count": 7,
   "metadata": {},
   "outputs": [
    {
     "name": "stdout",
     "output_type": "stream",
     "text": [
      "P(+) =  3.4400000000000013\n",
      "P(-) =  96.55999999999999\n",
      "0.9999999999999999\n"
     ]
    }
   ],
   "source": [
    "probs_positive, probs_negative = test_accuracy(0.98, 0.015, 'No')"
   ]
  },
  {
   "cell_type": "code",
   "execution_count": 40,
   "metadata": {},
   "outputs": [],
   "source": [
    "# Interested in P(Sick | +) and P(Healthy | -)\n",
    "def bayes1(accuracy, prevalance, prob_positive=None, prob_negative=None):\n",
    "    \n",
    "    # Posterior = P(+ | Sick) * P(Sick) / P(+)\n",
    "    posterior1 = (accuracy * prevalance) / (probs_positive)\n",
    "    # Posterior = P(- | Healthy) * P(Healthy) / P(-)\n",
    "    posterior2 = (accuracy * 1-prevalance) / (probs_negative)\n",
    "    \n",
    "    print(\"P(Sick | +) = \", round(posterior1*100, 2), \"%\")\n",
    "    print(\"P(Healthy | -) = \", round(posterior2*100, 2), \"%\")\n",
    "    \n",
    "    return posterior1, posterior2"
   ]
  },
  {
   "cell_type": "code",
   "execution_count": 41,
   "metadata": {},
   "outputs": [
    {
     "name": "stdout",
     "output_type": "stream",
     "text": [
      "P(Sick | +) =  42.73 %\n",
      "P(Healthy | -) =  99.94 %\n"
     ]
    }
   ],
   "source": [
    "prob_sick_given_positive, prob_healthy_given_negative = bayes1(0.98, 0.015, probs_positive, probs_negative)"
   ]
  },
  {
   "cell_type": "code",
   "execution_count": 35,
   "metadata": {},
   "outputs": [],
   "source": [
    "# Now, we are interested in P(+ | Healthy) and P(- | Sick)\n",
    "def bayes2(accuracy, prevalance, prob_positive=None, prob_negative=None):\n",
    "\n",
    "    # Posterior = P(Healthy | +) * P(+) / P(Healthy) \n",
    "    posterior1 = (1 - prob_sick_given_positive) * prob_positive / 1 - prevalance\n",
    "    # Posterior = P(Sick | -) * P(-) / P(Sick)\n",
    "    posterior2 = (1 - prob_healthy_given_negative) * prob_negative / prevalance\n",
    "    \n",
    "    print(\"P(+ | Healthy) = \", round(posterior1*100, 4), \"%\")\n",
    "    print(\"P(- | Sick) = \", round(posterior2*100, 4), \"%\")"
   ]
  },
  {
   "cell_type": "code",
   "execution_count": 37,
   "metadata": {},
   "outputs": [
    {
     "name": "stdout",
     "output_type": "stream",
     "text": [
      "P(+ | Healthy) =  0.47 %\n",
      "P(- | Sick) =  4.0 %\n"
     ]
    }
   ],
   "source": [
    "bayes2(0.98, 0.015, probs_positive, probs_negative)"
   ]
  },
  {
   "cell_type": "code",
   "execution_count": null,
   "metadata": {},
   "outputs": [],
   "source": []
  }
 ],
 "metadata": {
  "kernelspec": {
   "display_name": "Python 3",
   "language": "python",
   "name": "python3"
  },
  "language_info": {
   "codemirror_mode": {
    "name": "ipython",
    "version": 3
   },
   "file_extension": ".py",
   "mimetype": "text/x-python",
   "name": "python",
   "nbconvert_exporter": "python",
   "pygments_lexer": "ipython3",
   "version": "3.7.4"
  }
 },
 "nbformat": 4,
 "nbformat_minor": 4
}
